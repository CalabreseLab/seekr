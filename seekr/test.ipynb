{
 "cells": [
  {
   "cell_type": "code",
   "execution_count": 1,
   "metadata": {},
   "outputs": [],
   "source": [
    "import kmer_counts "
   ]
  },
  {
   "cell_type": "code",
   "execution_count": 2,
   "metadata": {},
   "outputs": [],
   "source": [
    "counter = kmer_counts.BasicCounter(infasta='./tests/data/example.fa',k=2,log2=2,mean=False,std=False)"
   ]
  },
  {
   "cell_type": "code",
   "execution_count": 3,
   "metadata": {},
   "outputs": [
    {
     "name": "stdout",
     "output_type": "stream",
     "text": [
      "HELLO\n"
     ]
    }
   ],
   "source": [
    "counter.wtf()"
   ]
  },
  {
   "cell_type": "code",
   "execution_count": 4,
   "metadata": {},
   "outputs": [
    {
     "data": {
      "application/vnd.jupyter.widget-view+json": {
       "model_id": "26c8ba9ff0374a6c8df7dd6457042521",
       "version_major": 2,
       "version_minor": 0
      },
      "text/plain": [
       "HBox(children=(IntProgress(value=0, max=5), HTML(value='')))"
      ]
     },
     "metadata": {},
     "output_type": "display_data"
    },
    {
     "name": "stdout",
     "output_type": "stream",
     "text": [
      "\n"
     ]
    }
   ],
   "source": [
    "counter.get_counts()"
   ]
  },
  {
   "cell_type": "code",
   "execution_count": 5,
   "metadata": {},
   "outputs": [
    {
     "data": {
      "text/plain": [
       "array([[9.967226 , 0.       , 0.       , 0.       , 0.       , 0.       ,\n",
       "        0.       , 0.       , 0.       , 0.       , 0.       , 0.       ,\n",
       "        0.       , 0.       , 0.       , 0.       ],\n",
       "       [0.       , 0.       , 0.       , 0.       , 0.       , 8.831451 ,\n",
       "        0.       , 0.       , 0.       , 6.5221357, 8.831451 , 0.       ,\n",
       "        0.       , 0.       , 0.       , 0.       ],\n",
       "       [0.       , 0.       , 8.064294 , 0.       , 0.       , 0.       ,\n",
       "        0.       , 8.064294 , 0.       , 8.064294 , 0.       , 0.       ,\n",
       "        7.6510515, 0.       , 0.       , 0.       ],\n",
       "       [0.       , 4.808747 , 7.088896 , 6.578857 , 7.2254353, 0.       ,\n",
       "        0.       , 6.358978 , 5.376448 , 6.9380693, 0.       , 6.578857 ,\n",
       "        5.782777 , 6.358978 , 6.9380693, 0.       ],\n",
       "       [4.7900767, 5.763766 , 7.6510515, 5.357552 , 3.8413022, 0.       ,\n",
       "        3.8413022, 7.0696735, 7.5520287, 6.0803733, 5.357552 , 3.8413022,\n",
       "        6.33985  , 5.763766 , 5.763766 , 4.7900767]], dtype=float32)"
      ]
     },
     "execution_count": 5,
     "metadata": {},
     "output_type": "execute_result"
    }
   ],
   "source": [
    "counter.counts"
   ]
  },
  {
   "cell_type": "code",
   "execution_count": 6,
   "metadata": {},
   "outputs": [
    {
     "name": "stdout",
     "output_type": "stream",
     "text": [
      "/Users/dan/Documents/Lab/Notebook/06_24_20/seekr/seekr/kmer_counts.py\n"
     ]
    }
   ],
   "source": [
    "print(kmer_counts.__file__)"
   ]
  },
  {
   "cell_type": "code",
   "execution_count": null,
   "metadata": {},
   "outputs": [],
   "source": []
  }
 ],
 "metadata": {
  "kernelspec": {
   "display_name": "Python 3",
   "language": "python",
   "name": "python3"
  },
  "language_info": {
   "codemirror_mode": {
    "name": "ipython",
    "version": 3
   },
   "file_extension": ".py",
   "mimetype": "text/x-python",
   "name": "python",
   "nbconvert_exporter": "python",
   "pygments_lexer": "ipython3",
   "version": "3.7.4"
  }
 },
 "nbformat": 4,
 "nbformat_minor": 2
}
